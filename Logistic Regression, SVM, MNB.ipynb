{
 "cells": [
  {
   "cell_type": "code",
   "execution_count": 1,
   "metadata": {
    "_cell_guid": "b1076dfc-b9ad-4769-8c92-a6c4dae69d19",
    "_uuid": "8f2839f25d086af736a60e9eeb907d3b93b6e0e5",
    "id": "kR0_4-MemNnv"
   },
   "outputs": [],
   "source": [
    "# This Python 3 environment comes with many helpful analytics libraries installed\n",
    "# It is defined by the kaggle/python Docker image: https://github.com/kaggle/docker-python\n",
    "# For example, here's several helpful packages to load\n",
    "\n",
    "import numpy as np # linear algebra\n",
    "import pandas as pd # data processing, CSV file I/O (e.g. pd.read_csv)\n",
    "\n",
    "# Input data files are available in the read-only \"../input/\" directory\n",
    "# For example, running this (by clicking run or pressing Shift+Enter) will list all files under the input directory\n",
    "\n",
    "import os\n",
    "for dirname, _, filenames in os.walk('/kaggle/input'):\n",
    "    for filename in filenames:\n",
    "        print(os.path.join(dirname, filename))\n",
    "\n",
    "# You can write up to 20GB to the current directory (/kaggle/working/) that gets preserved as output when you create a version using \"Save & Run All\" \n",
    "# You can also write temporary files to /kaggle/temp/, but they won't be saved outside of the current session"
   ]
  },
  {
   "cell_type": "code",
   "execution_count": 2,
   "metadata": {
    "_cell_guid": "79c7e3d0-c299-4dcb-8224-4455121ee9b0",
    "_uuid": "d629ff2d2480ee46fbb7e2d37f6b5fab8052498a",
    "colab": {
     "base_uri": "https://localhost:8080/"
    },
    "id": "jfTuJ4fMmNn2",
    "outputId": "770b0114-4f91-4352-900c-fc55c45af798"
   },
   "outputs": [
    {
     "name": "stdout",
     "output_type": "stream",
     "text": [
      "[nltk_data] Downloading package stopwords to /root/nltk_data...\n",
      "[nltk_data]   Unzipping corpora/stopwords.zip.\n",
      "[nltk_data] Downloading package punkt to /root/nltk_data...\n",
      "[nltk_data]   Unzipping tokenizers/punkt.zip.\n"
     ]
    }
   ],
   "source": [
    "import matplotlib.pyplot as plt\n",
    "%matplotlib inline\n",
    "import random\n",
    "from sklearn.feature_extraction.text import CountVectorizer,TfidfVectorizer\n",
    "from sklearn.naive_bayes import MultinomialNB,CategoricalNB\n",
    "import nltk\n",
    "nltk.download('stopwords')\n",
    "nltk.download('punkt')\n",
    "import re\n",
    "from nltk.corpus import stopwords\n",
    "import string\n",
    "from sklearn import preprocessing\n",
    "from sklearn.manifold import TSNE\n",
    "import seaborn as sns\n",
    "from nltk.stem.porter import PorterStemmer\n",
    "from sklearn.metrics import log_loss\n",
    "from sklearn.linear_model import LogisticRegression,SGDClassifier\n",
    "from sklearn import svm\n",
    "from nltk.tokenize import word_tokenize\n",
    "from sklearn.metrics import accuracy_score\n",
    "from time import time\n",
    "from sklearn.model_selection import StratifiedKFold"
   ]
  },
  {
   "cell_type": "code",
   "execution_count": 4,
   "metadata": {
    "id": "UXfRo_P7mNn2"
   },
   "outputs": [],
   "source": [
    "train = pd.read_csv('./train.csv')\n",
    "test = pd.read_csv('./test.csv')\n",
    "# sub = pd.read_csv('../input/nlp-getting-started/sample_submission.csv')"
   ]
  },
  {
   "cell_type": "markdown",
   "metadata": {
    "id": "Hv-7Iq7imNn3"
   },
   "source": [
    "# Let's start with EDA"
   ]
  },
  {
   "cell_type": "code",
   "execution_count": 5,
   "metadata": {
    "colab": {
     "base_uri": "https://localhost:8080/"
    },
    "id": "aUrP4tNEmNn3",
    "outputId": "ef14e9a1-b639-4ff8-aaa0-6a35c6968ac2"
   },
   "outputs": [
    {
     "name": "stdout",
     "output_type": "stream",
     "text": [
      "(7613, 5) (3263, 4)\n"
     ]
    }
   ],
   "source": [
    "print(train.shape,test.shape)"
   ]
  },
  {
   "cell_type": "code",
   "execution_count": null,
   "metadata": {
    "id": "4e9XgmkRmNn3"
   },
   "outputs": [],
   "source": [
    "dxxdcftrain.head(3)"
   ]
  },
  {
   "cell_type": "code",
   "execution_count": null,
   "metadata": {
    "id": "HyWv7E5HmNn4"
   },
   "outputs": [],
   "source": [
    "#Check if ther'is null values\n",
    "train.isnull().sum()"
   ]
  },
  {
   "cell_type": "code",
   "execution_count": 6,
   "metadata": {
    "colab": {
     "base_uri": "https://localhost:8080/"
    },
    "id": "xZnaBKqmmNn4",
    "outputId": "720134bc-07bf-41c5-e9b9-fb580bf308fb"
   },
   "outputs": [
    {
     "data": {
      "text/plain": [
       "(7521, 5)"
      ]
     },
     "execution_count": 6,
     "metadata": {
      "tags": []
     },
     "output_type": "execute_result"
    }
   ],
   "source": [
    "#Remove redundant samples\n",
    "train=train.drop_duplicates(subset=['text', 'target'], keep='first')\n",
    "train.shape"
   ]
  },
  {
   "cell_type": "markdown",
   "metadata": {
    "id": "zzydLyUHmNn4"
   },
   "source": [
    "* We have 92 redundants sapmles in our dataset"
   ]
  },
  {
   "cell_type": "code",
   "execution_count": null,
   "metadata": {
    "id": "hL1wLCV2mNn4"
   },
   "outputs": [],
   "source": [
    "train.target.value_counts()"
   ]
  },
  {
   "cell_type": "code",
   "execution_count": null,
   "metadata": {
    "id": "Y6wBeDUtmNn5"
   },
   "outputs": [],
   "source": [
    "import matplotlib.pyplot as plt\n",
    "fig = plt.figure(figsize=(8,6))\n",
    "train.groupby('target').id.count().plot.bar(ylim=0)\n",
    "plt.show()"
   ]
  },
  {
   "cell_type": "markdown",
   "metadata": {
    "id": "usnLnwF2mNn5"
   },
   "source": [
    "* labels are not balanced"
   ]
  },
  {
   "cell_type": "code",
   "execution_count": 7,
   "metadata": {
    "id": "fXW_lPGZmNn5"
   },
   "outputs": [],
   "source": [
    "# Numbers of word for each sapmle in train & test data\n",
    "train['text_length'] = train.text.apply(lambda x: len(x.split()))\n",
    "test['text_length'] = test.text.apply(lambda x: len(x.split()))"
   ]
  },
  {
   "cell_type": "code",
   "execution_count": null,
   "metadata": {
    "id": "jfxqUCVzmNn5"
   },
   "outputs": [],
   "source": [
    "train['text_length'].describe()"
   ]
  },
  {
   "cell_type": "code",
   "execution_count": null,
   "metadata": {
    "id": "Pxldr6LBmNn6"
   },
   "outputs": [],
   "source": [
    "test['text_length'].describe()"
   ]
  },
  {
   "cell_type": "markdown",
   "metadata": {
    "id": "wYhMqlVPmNn6"
   },
   "source": [
    "* Max number of words in all data is 31 and min is 1!"
   ]
  },
  {
   "cell_type": "code",
   "execution_count": null,
   "metadata": {
    "id": "kwHqIccVmNn6"
   },
   "outputs": [],
   "source": [
    "def plot_word_count(df, data_name):\n",
    "  sns.distplot(df['text_length'].values)\n",
    "  plt.title(f'Sequence char count: {data_name}')\n",
    "  plt.grid(True)"
   ]
  },
  {
   "cell_type": "code",
   "execution_count": null,
   "metadata": {
    "id": "H73Sn4BTmNn6"
   },
   "outputs": [],
   "source": [
    "#ig = plt.figure(figsize=(16,6))\n",
    "#plt.hist(train[\"text_length\"], bins = 30)\n",
    "#plt.show()\n",
    "plt.subplot(1, 2, 1)\n",
    "plot_word_count(train, 'Train')\n",
    "\n",
    "plt.subplot(1, 2, 2)\n",
    "plot_word_count(test, 'Test')\n",
    "\n",
    "plt.subplots_adjust(right=3.0)\n",
    "plt.show()"
   ]
  },
  {
   "cell_type": "code",
   "execution_count": 8,
   "metadata": {
    "id": "bDm_qaH3mNn7"
   },
   "outputs": [],
   "source": [
    "# collecting all words in single list\n",
    "list_= []\n",
    "for i in train.text:\n",
    "    list_ += i\n",
    "list_= ''.join(list_)\n",
    "allWords=list_.split()\n",
    "vocabulary= set(allWords)"
   ]
  },
  {
   "cell_type": "code",
   "execution_count": 9,
   "metadata": {
    "colab": {
     "base_uri": "https://localhost:8080/"
    },
    "id": "IRJhq4bHmNn7",
    "outputId": "f955e6c1-1811-4c50-e237-8124e23ae4cf"
   },
   "outputs": [
    {
     "data": {
      "text/plain": [
       "31480"
      ]
     },
     "execution_count": 9,
     "metadata": {
      "tags": []
     },
     "output_type": "execute_result"
    }
   ],
   "source": [
    "len(vocabulary)"
   ]
  },
  {
   "cell_type": "markdown",
   "metadata": {
    "id": "3-wVRt95mNn7"
   },
   "source": [
    " * We have 31480 different words in our train data"
   ]
  },
  {
   "cell_type": "code",
   "execution_count": 10,
   "metadata": {
    "id": "ejfcuPaNmNn7"
   },
   "outputs": [],
   "source": [
    "def create_corpus(df,target):\n",
    "    corpus=[]\n",
    "    \n",
    "    for x in df[df['target']==target]['text'].str.split():\n",
    "        for i in x:\n",
    "            corpus.append(i)\n",
    "    return corpus"
   ]
  },
  {
   "cell_type": "code",
   "execution_count": 11,
   "metadata": {
    "colab": {
     "base_uri": "https://localhost:8080/",
     "height": 337
    },
    "id": "HmBqk2Q0mNn7",
    "outputId": "79bc711e-beef-4aed-c5ad-d5a33d9a40b5"
   },
   "outputs": [
    {
     "data": {
      "text/plain": [
       "<matplotlib.axes._subplots.AxesSubplot at 0x7f4ac68d46d8>"
      ]
     },
     "execution_count": 11,
     "metadata": {
      "tags": []
     },
     "output_type": "execute_result"
    },
    {
     "data": {
      "image/png": "[encoded data removed]",
      "text/plain": [
       "<Figure size 1152x360 with 1 Axes>"
      ]
     },
     "metadata": {
      "needs_background": "light",
      "tags": []
     },
     "output_type": "display_data"
    }
   ],
   "source": [
    "#most frequent 20 words when label == 0 \n",
    "import collections\n",
    "allWords=create_corpus(train,target=0)\n",
    "vocabulary= set(allWords)\n",
    "vocabulary_list= list(vocabulary)\n",
    "\n",
    "plt.figure(figsize=(16,5))\n",
    "counter=collections.Counter(allWords)\n",
    "most=counter.most_common()\n",
    "x=[]\n",
    "y=[]\n",
    "for word,count in most[:20]:\n",
    "  x.append(word)\n",
    "  y.append(count)\n",
    "sns.barplot(x=y,y=x)"
   ]
  },
  {
   "cell_type": "code",
   "execution_count": 12,
   "metadata": {
    "colab": {
     "base_uri": "https://localhost:8080/",
     "height": 337
    },
    "id": "oyKancgKmNn8",
    "outputId": "202e221f-ecce-4cb0-f940-62e58e95a19f"
   },
   "outputs": [
    {
     "data": {
      "text/plain": [
       "<matplotlib.axes._subplots.AxesSubplot at 0x7f4a940b2f60>"
      ]
     },
     "execution_count": 12,
     "metadata": {
      "tags": []
     },
     "output_type": "execute_result"
    },
    {
     "data": {
      "image/png": "[encoded data removed]",
      "text/plain": [
       "<Figure size 1152x360 with 1 Axes>"
      ]
     },
     "metadata": {
      "needs_background": "light",
      "tags": []
     },
     "output_type": "display_data"
    }
   ],
   "source": [
    "#most frequent 20 words when label == 1 \n",
    "import collections\n",
    "allWords=create_corpus(train,target=1)\n",
    "vocabulary= set(allWords)\n",
    "vocabulary_list= list(vocabulary)\n",
    "\n",
    "plt.figure(figsize=(16,5))\n",
    "counter=collections.Counter(allWords)\n",
    "most=counter.most_common()\n",
    "x=[]\n",
    "y=[]\n",
    "for word,count in most[:20]:\n",
    "  x.append(word)\n",
    "  y.append(count)\n",
    "sns.barplot(x=y,y=x)"
   ]
  },
  {
   "cell_type": "markdown",
   "metadata": {
    "id": "IWNhozX6mNn8"
   },
   "source": [
    "# Data Cleaning"
   ]
  },
  {
   "cell_type": "markdown",
   "metadata": {
    "id": "J7h_3c9ImNn8"
   },
   "source": [
    "## 1-Removing Punctuations"
   ]
  },
  {
   "cell_type": "code",
   "execution_count": 13,
   "metadata": {
    "colab": {
     "base_uri": "https://localhost:8080/",
     "height": 35
    },
    "id": "0OaYJEQmmNn8",
    "outputId": "56c182de-932d-438d-efe6-90f90787dbfb"
   },
   "outputs": [
    {
     "data": {
      "application/vnd.google.colaboratory.intrinsic+json": {
       "type": "string"
      },
      "text/plain": [
       "'!\"#$%&\\'()*+,-./:;<=>?@[\\\\]^_`{|}~'"
      ]
     },
     "execution_count": 13,
     "metadata": {
      "tags": []
     },
     "output_type": "execute_result"
    }
   ],
   "source": [
    "#List of punctuations and we will remove them from our corpus\n",
    "string.punctuation"
   ]
  },
  {
   "cell_type": "code",
   "execution_count": 14,
   "metadata": {
    "colab": {
     "base_uri": "https://localhost:8080/",
     "height": 35
    },
    "id": "ES7Jlm9AmNn9",
    "outputId": "2a28bb16-590f-4f1b-9acf-a1cf49ddc4b2"
   },
   "outputs": [
    {
     "data": {
      "application/vnd.google.colaboratory.intrinsic+json": {
       "type": "string"
      },
      "text/plain": [
       "'hey  how are you doing '"
      ]
     },
     "execution_count": 14,
     "metadata": {
      "tags": []
     },
     "output_type": "execute_result"
    }
   ],
   "source": [
    "#for  example\n",
    "text='hey # how are !you doing ?'\n",
    "\"\".join([char for char in text if char not in string.punctuation])"
   ]
  },
  {
   "cell_type": "markdown",
   "metadata": {
    "id": "T3rzFVQ0mNn9"
   },
   "source": [
    "## 2-Removing Numbers"
   ]
  },
  {
   "cell_type": "code",
   "execution_count": 15,
   "metadata": {
    "colab": {
     "base_uri": "https://localhost:8080/",
     "height": 35
    },
    "id": "7eE_M9hXmNn9",
    "outputId": "43098966-57b2-4d96-d549-3e5b9722b040"
   },
   "outputs": [
    {
     "data": {
      "application/vnd.google.colaboratory.intrinsic+json": {
       "type": "string"
      },
      "text/plain": [
       "'hey  look  at me'"
      ]
     },
     "execution_count": 15,
     "metadata": {
      "tags": []
     },
     "output_type": "execute_result"
    }
   ],
   "source": [
    "#for example \n",
    "text='hey 4 look 333 at me0'\n",
    "re.sub('[0-9]', '', text)"
   ]
  },
  {
   "cell_type": "markdown",
   "metadata": {
    "id": "2f1rGh-FmNn9"
   },
   "source": [
    "## 3-Removing Stopwords"
   ]
  },
  {
   "cell_type": "code",
   "execution_count": 16,
   "metadata": {
    "colab": {
     "base_uri": "https://localhost:8080/"
    },
    "id": "dZOy4VlymNn9",
    "outputId": "71613416-689e-4a0a-c344-1363fca43623"
   },
   "outputs": [
    {
     "data": {
      "text/plain": [
       "['i',\n",
       " 'me',\n",
       " 'my',\n",
       " 'myself',\n",
       " 'we',\n",
       " 'our',\n",
       " 'ours',\n",
       " 'ourselves',\n",
       " 'you',\n",
       " \"you're\",\n",
       " \"you've\",\n",
       " \"you'll\",\n",
       " \"you'd\",\n",
       " 'your',\n",
       " 'yours',\n",
       " 'yourself',\n",
       " 'yourselves',\n",
       " 'he',\n",
       " 'him',\n",
       " 'his',\n",
       " 'himself',\n",
       " 'she',\n",
       " \"she's\",\n",
       " 'her',\n",
       " 'hers',\n",
       " 'herself',\n",
       " 'it',\n",
       " \"it's\",\n",
       " 'its',\n",
       " 'itself',\n",
       " 'they',\n",
       " 'them',\n",
       " 'their',\n",
       " 'theirs',\n",
       " 'themselves',\n",
       " 'what',\n",
       " 'which',\n",
       " 'who',\n",
       " 'whom',\n",
       " 'this',\n",
       " 'that',\n",
       " \"that'll\",\n",
       " 'these',\n",
       " 'those',\n",
       " 'am',\n",
       " 'is',\n",
       " 'are',\n",
       " 'was',\n",
       " 'were',\n",
       " 'be',\n",
       " 'been',\n",
       " 'being',\n",
       " 'have',\n",
       " 'has',\n",
       " 'had',\n",
       " 'having',\n",
       " 'do',\n",
       " 'does',\n",
       " 'did',\n",
       " 'doing',\n",
       " 'a',\n",
       " 'an',\n",
       " 'the',\n",
       " 'and',\n",
       " 'but',\n",
       " 'if',\n",
       " 'or',\n",
       " 'because',\n",
       " 'as',\n",
       " 'until',\n",
       " 'while',\n",
       " 'of',\n",
       " 'at',\n",
       " 'by',\n",
       " 'for',\n",
       " 'with',\n",
       " 'about',\n",
       " 'against',\n",
       " 'between',\n",
       " 'into',\n",
       " 'through',\n",
       " 'during',\n",
       " 'before',\n",
       " 'after',\n",
       " 'above',\n",
       " 'below',\n",
       " 'to',\n",
       " 'from',\n",
       " 'up',\n",
       " 'down',\n",
       " 'in',\n",
       " 'out',\n",
       " 'on',\n",
       " 'off',\n",
       " 'over',\n",
       " 'under',\n",
       " 'again',\n",
       " 'further',\n",
       " 'then',\n",
       " 'once',\n",
       " 'here',\n",
       " 'there',\n",
       " 'when',\n",
       " 'where',\n",
       " 'why',\n",
       " 'how',\n",
       " 'all',\n",
       " 'any',\n",
       " 'both',\n",
       " 'each',\n",
       " 'few',\n",
       " 'more',\n",
       " 'most',\n",
       " 'other',\n",
       " 'some',\n",
       " 'such',\n",
       " 'no',\n",
       " 'nor',\n",
       " 'not',\n",
       " 'only',\n",
       " 'own',\n",
       " 'same',\n",
       " 'so',\n",
       " 'than',\n",
       " 'too',\n",
       " 'very',\n",
       " 's',\n",
       " 't',\n",
       " 'can',\n",
       " 'will',\n",
       " 'just',\n",
       " 'don',\n",
       " \"don't\",\n",
       " 'should',\n",
       " \"should've\",\n",
       " 'now',\n",
       " 'd',\n",
       " 'll',\n",
       " 'm',\n",
       " 'o',\n",
       " 're',\n",
       " 've',\n",
       " 'y',\n",
       " 'ain',\n",
       " 'aren',\n",
       " \"aren't\",\n",
       " 'couldn',\n",
       " \"couldn't\",\n",
       " 'didn',\n",
       " \"didn't\",\n",
       " 'doesn',\n",
       " \"doesn't\",\n",
       " 'hadn',\n",
       " \"hadn't\",\n",
       " 'hasn',\n",
       " \"hasn't\",\n",
       " 'haven',\n",
       " \"haven't\",\n",
       " 'isn',\n",
       " \"isn't\",\n",
       " 'ma',\n",
       " 'mightn',\n",
       " \"mightn't\",\n",
       " 'mustn',\n",
       " \"mustn't\",\n",
       " 'needn',\n",
       " \"needn't\",\n",
       " 'shan',\n",
       " \"shan't\",\n",
       " 'shouldn',\n",
       " \"shouldn't\",\n",
       " 'wasn',\n",
       " \"wasn't\",\n",
       " 'weren',\n",
       " \"weren't\",\n",
       " 'won',\n",
       " \"won't\",\n",
       " 'wouldn',\n",
       " \"wouldn't\"]"
      ]
     },
     "execution_count": 16,
     "metadata": {
      "tags": []
     },
     "output_type": "execute_result"
    }
   ],
   "source": [
    "#list of stopwords\n",
    "stopwords.words('english')"
   ]
  },
  {
   "cell_type": "code",
   "execution_count": 17,
   "metadata": {
    "colab": {
     "base_uri": "https://localhost:8080/",
     "height": 35
    },
    "id": "0y3pu6Z8mNn9",
    "outputId": "0fc99dfb-ec03-4446-8861-e9d1e54aa1c6"
   },
   "outputs": [
    {
     "data": {
      "application/vnd.google.colaboratory.intrinsic+json": {
       "type": "string"
      },
      "text/plain": [
       "'hey I help'"
      ]
     },
     "execution_count": 17,
     "metadata": {
      "tags": []
     },
     "output_type": "execute_result"
    }
   ],
   "source": [
    "#for example\n",
    "text='hey this is me and I am here to help you  '\n",
    "tokens = word_tokenize(text)\n",
    "tokens=[word for word in tokens if word not in stopwords.words('english')]\n",
    "' '.join(tokens)"
   ]
  },
  {
   "cell_type": "markdown",
   "metadata": {
    "id": "US8GukuJmNn-"
   },
   "source": [
    "## Now let's Build a function that clean our data"
   ]
  },
  {
   "cell_type": "markdown",
   "metadata": {
    "id": "obwCDReTmNn-"
   },
   "source": [
    "* I just added lower function in order to lowercase all words and stemming"
   ]
  },
  {
   "cell_type": "code",
   "execution_count": 18,
   "metadata": {
    "id": "2MK4Xh2_mNn-"
   },
   "outputs": [],
   "source": [
    "pstem = PorterStemmer()\n",
    "def clean_text(text):\n",
    "    text= text.lower()\n",
    "    text= re.sub('[0-9]', '', text)\n",
    "    text  = \"\".join([char for char in text if char not in string.punctuation])\n",
    "    tokens = word_tokenize(text)\n",
    "    tokens=[pstem.stem(word) for word in tokens]\n",
    "    #tokens=[word for word in tokens if word not in stopwords.words('english')]\n",
    "    text = ' '.join(tokens)\n",
    "    return text"
   ]
  },
  {
   "cell_type": "code",
   "execution_count": 19,
   "metadata": {
    "colab": {
     "base_uri": "https://localhost:8080/",
     "height": 35
    },
    "id": "HOBTjUt2mNn-",
    "outputId": "fd972b57-79c0-4cb1-dda5-c5cd0fe6e8ef"
   },
   "outputs": [
    {
     "data": {
      "application/vnd.google.colaboratory.intrinsic+json": {
       "type": "string"
      },
      "text/plain": [
       "'hey i am here look good cant see you'"
      ]
     },
     "execution_count": 19,
     "metadata": {
      "tags": []
     },
     "output_type": "execute_result"
    }
   ],
   "source": [
    "clean_text(\"hey I am here # ! looks 4 GOOD can't see you!\")"
   ]
  },
  {
   "cell_type": "code",
   "execution_count": 20,
   "metadata": {
    "id": "OTPUMTaHmNn-"
   },
   "outputs": [],
   "source": [
    "train[\"clean\"]=train[\"text\"].apply(clean_text)\n",
    "test[\"clean\"]=test[\"text\"].apply(clean_text)"
   ]
  },
  {
   "cell_type": "code",
   "execution_count": 21,
   "metadata": {
    "colab": {
     "base_uri": "https://localhost:8080/",
     "height": 173
    },
    "id": "RcWE3Q1zmNn_",
    "outputId": "f685ebe3-dc1b-4815-d329-8ae6664d15d3"
   },
   "outputs": [
    {
     "data": {
      "text/html": [
       "<div>\n",
       "<style scoped>\n",
       "    .dataframe tbody tr th:only-of-type {\n",
       "        vertical-align: middle;\n",
       "    }\n",
       "\n",
       "    .dataframe tbody tr th {\n",
       "        vertical-align: top;\n",
       "    }\n",
       "\n",
       "    .dataframe thead th {\n",
       "        text-align: right;\n",
       "    }\n",
       "</style>\n",
       "<table border=\"1\" class=\"dataframe\">\n",
       "  <thead>\n",
       "    <tr style=\"text-align: right;\">\n",
       "      <th></th>\n",
       "      <th>text</th>\n",
       "      <th>clean</th>\n",
       "    </tr>\n",
       "  </thead>\n",
       "  <tbody>\n",
       "    <tr>\n",
       "      <th>0</th>\n",
       "      <td>Our Deeds are the Reason of this #earthquake M...</td>\n",
       "      <td>our deed are the reason of thi earthquak may a...</td>\n",
       "    </tr>\n",
       "    <tr>\n",
       "      <th>1</th>\n",
       "      <td>Forest fire near La Ronge Sask. Canada</td>\n",
       "      <td>forest fire near la rong sask canada</td>\n",
       "    </tr>\n",
       "    <tr>\n",
       "      <th>2</th>\n",
       "      <td>All residents asked to 'shelter in place' are ...</td>\n",
       "      <td>all resid ask to shelter in place are be notif...</td>\n",
       "    </tr>\n",
       "    <tr>\n",
       "      <th>3</th>\n",
       "      <td>13,000 people receive #wildfires evacuation or...</td>\n",
       "      <td>peopl receiv wildfir evacu order in california</td>\n",
       "    </tr>\n",
       "  </tbody>\n",
       "</table>\n",
       "</div>"
      ],
      "text/plain": [
       "                                                text                                              clean\n",
       "0  Our Deeds are the Reason of this #earthquake M...  our deed are the reason of thi earthquak may a...\n",
       "1             Forest fire near La Ronge Sask. Canada               forest fire near la rong sask canada\n",
       "2  All residents asked to 'shelter in place' are ...  all resid ask to shelter in place are be notif...\n",
       "3  13,000 people receive #wildfires evacuation or...     peopl receiv wildfir evacu order in california"
      ]
     },
     "execution_count": 21,
     "metadata": {
      "tags": []
     },
     "output_type": "execute_result"
    }
   ],
   "source": [
    "#Let's see the effect of cleaning\n",
    "train[[\"text\",\"clean\"]].head(4)"
   ]
  },
  {
   "cell_type": "code",
   "execution_count": 22,
   "metadata": {
    "colab": {
     "base_uri": "https://localhost:8080/"
    },
    "id": "WRCwoafxmNn_",
    "outputId": "49bafbc2-0c54-44e0-f3da-4b0d92f36d22"
   },
   "outputs": [
    {
     "data": {
      "text/plain": [
       "20163"
      ]
     },
     "execution_count": 22,
     "metadata": {
      "tags": []
     },
     "output_type": "execute_result"
    }
   ],
   "source": [
    "# collecting all words in single list\n",
    "list_= []\n",
    "for i in train.clean:\n",
    "    list_ += i\n",
    "list_= ''.join(list_)\n",
    "allWords=list_.split()\n",
    "vocabulary= set(allWords)\n",
    "len(vocabulary)"
   ]
  },
  {
   "cell_type": "markdown",
   "metadata": {
    "id": "wvetaWqimNn_"
   },
   "source": [
    "* we reduced our data from 31480 unique words to 19920"
   ]
  },
  {
   "cell_type": "code",
   "execution_count": 23,
   "metadata": {
    "colab": {
     "base_uri": "https://localhost:8080/"
    },
    "id": "-nIo13jnmNoA",
    "outputId": "7a94cd39-1048-4d01-c6fb-f2c743f743f0"
   },
   "outputs": [
    {
     "data": {
      "text/plain": [
       "(7521, 60000)"
      ]
     },
     "execution_count": 23,
     "metadata": {
      "tags": []
     },
     "output_type": "execute_result"
    }
   ],
   "source": [
    "tfidf = TfidfVectorizer(sublinear_tf=True,max_features=60000, min_df=1, norm='l2',  ngram_range=(1,2))\n",
    "features = tfidf.fit_transform(train.clean).toarray()\n",
    "features.shape"
   ]
  },
  {
   "cell_type": "code",
   "execution_count": 24,
   "metadata": {
    "id": "9-LvmyZOmNoA"
   },
   "outputs": [],
   "source": [
    "features_test = tfidf.transform(test.clean).toarray()"
   ]
  },
  {
   "cell_type": "markdown",
   "metadata": {
    "id": "akdXLyDYmNoB"
   },
   "source": [
    "# Let's use some machine leaning algorithm"
   ]
  },
  {
   "cell_type": "code",
   "execution_count": 25,
   "metadata": {
    "id": "CUHEU2rOmNoB"
   },
   "outputs": [],
   "source": [
    "#split data into 4 parts with same distribution of classes.\n",
    "skf = StratifiedKFold(n_splits=4, random_state=48, shuffle=True)\n",
    "accuracy=[] # list contains the accuracy for each fold\n",
    "n=1\n",
    "y=train['target']"
   ]
  },
  {
   "cell_type": "code",
   "execution_count": 27,
   "metadata": {
    "colab": {
     "base_uri": "https://localhost:8080/"
    },
    "id": "_upU4297mNoB",
    "outputId": "be50396a-e4f1-40ad-8f5f-c3689cb9e1b1"
   },
   "outputs": [
    {
     "name": "stdout",
     "output_type": "stream",
     "text": [
      "0.42953121264775596 0.809144072301967\n",
      "0.3416605194409688 0.8021276595744681\n",
      "0.44699813922246295 0.7968085106382978\n",
      "0.3922463337580363 0.8\n"
     ]
    }
   ],
   "source": [
    "for trn_idx, test_idx in skf.split(features, y):\n",
    "  start_time = time()\n",
    "  X_tr,X_val=features[trn_idx],features[test_idx]\n",
    "  y_tr,y_val=y.iloc[trn_idx],y.iloc[test_idx]\n",
    "  model= LogisticRegression(max_iter=1000,C=3)\n",
    "  #model=MultinomialNB(alpha=0.5)\n",
    "  #model=svm.SVC(max_iter=1000)\n",
    "  model.fit(X_tr,y_tr)\n",
    "  s = model.predict(X_val)\n",
    "  # sub[str(n)]= model.predict(features_test) \n",
    "  \n",
    "  accuracy.append(accuracy_score(y_val, s))\n",
    "  print((time() - start_time)/60,accuracy[n-1])\n",
    "  n+=1"
   ]
  },
  {
   "cell_type": "code",
   "execution_count": 28,
   "metadata": {
    "colab": {
     "base_uri": "https://localhost:8080/"
    },
    "id": "IhM7UfG8mNoB",
    "outputId": "2ac5c5c7-1711-4d5c-b203-4023d9f4edcb"
   },
   "outputs": [
    {
     "data": {
      "text/plain": [
       "[0.809144072301967, 0.8021276595744681, 0.7968085106382978, 0.8]"
      ]
     },
     "execution_count": 28,
     "metadata": {
      "tags": []
     },
     "output_type": "execute_result"
    }
   ],
   "source": [
    "accuracy"
   ]
  },
  {
   "cell_type": "code",
   "execution_count": 29,
   "metadata": {
    "colab": {
     "base_uri": "https://localhost:8080/"
    },
    "id": "YeHpi-o7mNoB",
    "outputId": "1befe2c3-afd8-4bb0-cf8c-d75c177227cd"
   },
   "outputs": [
    {
     "data": {
      "text/plain": [
       "80.20200606286832"
      ]
     },
     "execution_count": 29,
     "metadata": {
      "tags": []
     },
     "output_type": "execute_result"
    }
   ],
   "source": [
    "np.mean(accuracy)*100"
   ]
  },
  {
   "cell_type": "code",
   "execution_count": 30,
   "metadata": {
    "colab": {
     "base_uri": "https://localhost:8080/"
    },
    "id": "dcA-25G0nU_6",
    "outputId": "27ce0f50-b579-4c2e-a1aa-01c57b58630b"
   },
   "outputs": [
    {
     "data": {
      "text/plain": [
       "['model.h5']"
      ]
     },
     "execution_count": 30,
     "metadata": {
      "tags": []
     },
     "output_type": "execute_result"
    }
   ],
   "source": [
    "import joblib\n",
    "\n",
    "joblib.dump(model, 'model.h5')"
   ]
  },
  {
   "cell_type": "code",
   "execution_count": 34,
   "metadata": {
    "colab": {
     "base_uri": "https://localhost:8080/"
    },
    "id": "Gkqb_bh_o4XJ",
    "outputId": "d35836a8-ef58-4805-99fa-4e315c1964a0"
   },
   "outputs": [
    {
     "data": {
      "text/plain": [
       "['vectorier.h5']"
      ]
     },
     "execution_count": 34,
     "metadata": {
      "tags": []
     },
     "output_type": "execute_result"
    }
   ],
   "source": [
    "joblib.dump(tfidf, 'vectorier.h5')"
   ]
  },
  {
   "cell_type": "markdown",
   "metadata": {
    "id": "1LgXkdAbmNoC"
   },
   "source": [
    "# Evaluating Model on Validation Set"
   ]
  },
  {
   "cell_type": "code",
   "execution_count": 31,
   "metadata": {
    "id": "puSMxpsXmNoC"
   },
   "outputs": [],
   "source": [
    "from sklearn.metrics import confusion_matrix, classification_report"
   ]
  },
  {
   "cell_type": "code",
   "execution_count": 32,
   "metadata": {
    "colab": {
     "base_uri": "https://localhost:8080/"
    },
    "id": "Dx4v4BlrmNoC",
    "outputId": "0ace29b9-2fcb-4135-cbd0-f5e0595f59b0"
   },
   "outputs": [
    {
     "name": "stdout",
     "output_type": "stream",
     "text": [
      "              precision    recall  f1-score   support\n",
      "\n",
      "           0       0.77      0.92      0.84      1079\n",
      "           1       0.86      0.63      0.73       801\n",
      "\n",
      "    accuracy                           0.80      1880\n",
      "   macro avg       0.82      0.78      0.79      1880\n",
      "weighted avg       0.81      0.80      0.79      1880\n",
      "\n"
     ]
    }
   ],
   "source": [
    "pred_valid_y = model.predict(X_val)\n",
    "print(classification_report(y_val, pred_valid_y ))"
   ]
  },
  {
   "cell_type": "code",
   "execution_count": 33,
   "metadata": {
    "colab": {
     "base_uri": "https://localhost:8080/"
    },
    "id": "qx7FK6RRmNoC",
    "outputId": "7318a56f-17f0-4764-f9b7-a9c89c183881"
   },
   "outputs": [
    {
     "name": "stdout",
     "output_type": "stream",
     "text": [
      "[[998  81]\n",
      " [295 506]]\n"
     ]
    }
   ],
   "source": [
    "print(confusion_matrix(y_val, pred_valid_y ))"
   ]
  },
  {
   "cell_type": "markdown",
   "metadata": {
    "id": "FPKN_WtsmNoC"
   },
   "source": [
    "# Submission"
   ]
  },
  {
   "cell_type": "code",
   "execution_count": null,
   "metadata": {
    "id": "HfJYj8J3mNoD"
   },
   "outputs": [],
   "source": [
    "sub"
   ]
  },
  {
   "cell_type": "code",
   "execution_count": null,
   "metadata": {
    "id": "GoqpI6IBmNoD"
   },
   "outputs": [],
   "source": [
    "df=sub[['1','2','3','4']].mode(axis=1)# select the most frequent predicted class by our model\n",
    "sub['target']=df[0]    \n",
    "sub=sub[['id','target']]\n",
    "sub['target']=sub['target'].apply(lambda x : int(x))"
   ]
  },
  {
   "cell_type": "code",
   "execution_count": null,
   "metadata": {
    "id": "2k58dgy6mNoD"
   },
   "outputs": [],
   "source": [
    "sub.to_csv('submission.csv',index=False)"
   ]
  },
  {
   "cell_type": "code",
   "execution_count": 37,
   "metadata": {
    "id": "m6OxjiBtpCrg"
   },
   "outputs": [],
   "source": [
    "a = joblib.load('./vectorier.h5')"
   ]
  },
  {
   "cell_type": "markdown",
   "metadata": {
    "id": "rDEClYDgmNoD"
   },
   "source": [
    "# Please If you find this kernel helpful, upvote it to help others see it 😊"
   ]
  },
  {
   "cell_type": "code",
   "execution_count": 42,
   "metadata": {
    "colab": {
     "base_uri": "https://localhost:8080/"
    },
    "id": "7zxdV7dvpM0z",
    "outputId": "74c0d018-f490-45b1-a05e-865b55da76e1"
   },
   "outputs": [
    {
     "data": {
      "text/plain": [
       "array([0])"
      ]
     },
     "execution_count": 42,
     "metadata": {
      "tags": []
     },
     "output_type": "execute_result"
    }
   ],
   "source": [
    "data = pd.Series(data = \"hello my name is ashwin\")\n",
    "data = a.transform(data)\n",
    "model.predict(data)"
   ]
  },
  {
   "cell_type": "code",
   "execution_count": 39,
   "metadata": {
    "colab": {
     "base_uri": "https://localhost:8080/"
    },
    "id": "QbhWbYtMpQYB",
    "outputId": "510b4537-a88e-4330-825a-3b61453453af"
   },
   "outputs": [
    {
     "data": {
      "text/plain": [
       "0       our deed are the reason of thi earthquak may a...\n",
       "1                    forest fire near la rong sask canada\n",
       "2       all resid ask to shelter in place are be notif...\n",
       "3          peopl receiv wildfir evacu order in california\n",
       "4       just got sent thi photo from rubi alaska as sm...\n",
       "                              ...                        \n",
       "7604    worldnew fallen powerlin on glink tram updat f...\n",
       "7605    on the flip side im at walmart and there is a ...\n",
       "7606    suicid bomber kill in saudi secur site mosqu r...\n",
       "7608    two giant crane hold a bridg collaps into near...\n",
       "7612    the latest more home raze by northern californ...\n",
       "Name: clean, Length: 7521, dtype: object"
      ]
     },
     "execution_count": 39,
     "metadata": {
      "tags": []
     },
     "output_type": "execute_result"
    }
   ],
   "source": [
    "train.clean"
   ]
  },
  {
   "cell_type": "code",
   "execution_count": 40,
   "metadata": {
    "colab": {
     "base_uri": "https://localhost:8080/"
    },
    "id": "Ktzl3bCtpaCQ",
    "outputId": "53705d82-12ac-4dd5-f03e-a18e7ea17406"
   },
   "outputs": [
    {
     "data": {
      "text/plain": [
       "0    hello my name is ashwin\n",
       "dtype: object"
      ]
     },
     "execution_count": 40,
     "metadata": {
      "tags": []
     },
     "output_type": "execute_result"
    }
   ],
   "source": []
  },
  {
   "cell_type": "code",
   "execution_count": null,
   "metadata": {
    "id": "osWt1HUMpz8T"
   },
   "outputs": [],
   "source": []
  }
 ],
 "metadata": {
  "colab": {
   "name": "sentiment-analysis-using-ml-80.ipynb",
   "provenance": []
  },
  "kernelspec": {
   "display_name": "Python 3",
   "language": "python",
   "name": "python3"
  },
  "language_info": {
   "codemirror_mode": {
    "name": "ipython",
    "version": 3
   },
   "file_extension": ".py",
   "mimetype": "text/x-python",
   "name": "python",
   "nbconvert_exporter": "python",
   "pygments_lexer": "ipython3",
   "version": "3.7.4"
  }
 },
 "nbformat": 4,
 "nbformat_minor": 1
}
